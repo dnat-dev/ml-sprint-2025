{
 "cells": [
  {
   "cell_type": "markdown",
   "id": "20e3d6ae-69b8-44fc-803a-918a80591860",
   "metadata": {},
   "source": [
    "\n",
    "A scalar is a single number. It has magnitude only and no direction.\n",
    "\n",
    "Example\tRole of the scalar\n",
    "Learning rate (η) in gradient descent\tControls step‑size when updating model weights.\n",
    "Regularisation strength (λ)\tTells the algorithm how much to penalise large weights.\n",
    "Temperature/price/age in a feature set\tEach value by itself is a scalar feature."
   ]
  },
  {
   "cell_type": "code",
   "execution_count": 4,
   "id": "195ee125-6e3d-4c9a-b036-d86e2580fa2c",
   "metadata": {},
   "outputs": [],
   "source": [
    "# learning‑rate scalar\n",
    "eta = 0.03       \n",
    "\n",
    "# regularisation weight\n",
    "lmbd = 0.001     \n",
    "\n",
    "# stand‑alone feature value\n",
    "age_years = 29   \n"
   ]
  },
  {
   "cell_type": "raw",
   "id": "a15c3378-eb1c-4ece-9520-c350b0fd7e18",
   "metadata": {},
   "source": [
    "A vector is an ordered list of scalars that, taken together, carries both magnitude (length) and direction.\n",
    "\n",
    "\n",
    "Task | Vector meaning\n",
    "Row in a cleaned DataFrame | Feature vector fed to a model.\n",
    "Word embedding | 768‑float BERT vector—semantics in space.\n",
    "Gradient of loss | Arrow pointing toward lower error.\n",
    "User/item factors | Dot of two vectors predicts rating."
   ]
  },
  {
   "cell_type": "code",
   "execution_count": 13,
   "id": "db72445a-dacd-4c85-bf90-ea82826d397b",
   "metadata": {},
   "outputs": [
    {
     "data": {
      "text/plain": [
       "array([0.6, 0.8])"
      ]
     },
     "execution_count": 13,
     "metadata": {},
     "output_type": "execute_result"
    }
   ],
   "source": [
    "import numpy as np\n",
    "\n",
    "vector = np.array([3,4])\n",
    "magnitude_of_vector = np.linalg.norm(vector)\n",
    "\n",
    "unit_vector = vector/np.linalg.norm(vector) # only direction\n",
    "\n",
    "unit_vector"
   ]
  },
  {
   "cell_type": "code",
   "execution_count": null,
   "id": "436e684f-50fe-4aaa-a718-8238b705ed7b",
   "metadata": {},
   "outputs": [],
   "source": []
  }
 ],
 "metadata": {
  "kernelspec": {
   "display_name": "Python 3 (ipykernel)",
   "language": "python",
   "name": "python3"
  },
  "language_info": {
   "codemirror_mode": {
    "name": "ipython",
    "version": 3
   },
   "file_extension": ".py",
   "mimetype": "text/x-python",
   "name": "python",
   "nbconvert_exporter": "python",
   "pygments_lexer": "ipython3",
   "version": "3.12.4"
  }
 },
 "nbformat": 4,
 "nbformat_minor": 5
}
