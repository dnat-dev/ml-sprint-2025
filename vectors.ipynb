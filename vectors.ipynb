{
 "cells": [
  {
   "cell_type": "markdown",
   "id": "20e3d6ae-69b8-44fc-803a-918a80591860",
   "metadata": {},
   "source": [
    "\n",
    "A scalar is a single number. It has magnitude only and no direction.\n",
    "\n",
    "Example\tRole of the scalar\n",
    "Learning rate (η) in gradient descent\tControls step‑size when updating model weights.\n",
    "Regularisation strength (λ)\tTells the algorithm how much to penalise large weights.\n",
    "Temperature/price/age in a feature set\tEach value by itself is a scalar feature."
   ]
  },
  {
   "cell_type": "code",
   "execution_count": 4,
   "id": "195ee125-6e3d-4c9a-b036-d86e2580fa2c",
   "metadata": {},
   "outputs": [],
   "source": [
    "# learning‑rate scalar\n",
    "eta = 0.03       \n",
    "\n",
    "# regularisation weight\n",
    "lmbd = 0.001     \n",
    "\n",
    "# stand‑alone feature value\n",
    "age_years = 29   \n"
   ]
  },
  {
   "cell_type": "raw",
   "id": "a15c3378-eb1c-4ece-9520-c350b0fd7e18",
   "metadata": {},
   "source": [
    "A vector is an ordered list of scalars that, taken together, carries both magnitude (length) and direction.\n",
    "\n",
    "\n",
    "Task | Vector meaning\n",
    "Row in a cleaned DataFrame | Feature vector fed to a model.\n",
    "Word embedding | 768‑float BERT vector—semantics in space.\n",
    "Gradient of loss | Arrow pointing toward lower error.\n",
    "User/item factors | Dot of two vectors predicts rating."
   ]
  },
  {
   "cell_type": "code",
   "execution_count": 13,
   "id": "db72445a-dacd-4c85-bf90-ea82826d397b",
   "metadata": {},
   "outputs": [
    {
     "data": {
      "text/plain": [
       "array([0.6, 0.8])"
      ]
     },
     "execution_count": 13,
     "metadata": {},
     "output_type": "execute_result"
    }
   ],
   "source": [
    "import numpy as np\n",
    "\n",
    "vector = np.array([3,4])\n",
    "magnitude_of_vector = np.linalg.norm(vector)\n",
    "\n",
    "unit_vector = vector/np.linalg.norm(vector) # only direction\n",
    "\n",
    "unit_vector"
   ]
  },
  {
   "cell_type": "code",
   "execution_count": null,
   "id": "436e684f-50fe-4aaa-a718-8238b705ed7b",
   "metadata": {},
   "outputs": [],
   "source": [
    "# unit vector (mini - exercise)\n",
    "\n",
    "Pick a new vector, e.g. [2,−1,2].\n",
    "Compute its magnitude and unit vector, then print both.\n",
    "Add a Pandas example: normalise every row of this small DataFrame to unit length:"
   ]
  },
  {
   "cell_type": "code",
   "execution_count": 16,
   "id": "3b5e4d1f-949d-4b6b-afc0-eebceb56cfb9",
   "metadata": {},
   "outputs": [
    {
     "name": "stdout",
     "output_type": "stream",
     "text": [
      "||v|| 3.0\n",
      "||v_hat|| [ 0.66666667 -0.33333333  0.66666667]\n"
     ]
    }
   ],
   "source": [
    "import numpy as np\n",
    "\n",
    "vector = np.array([2,-1,2])\n",
    "magnitude_of_vector = np.linalg.norm(vector)\n",
    "\n",
    "print(\"||v||\",magnitude_of_vector)\n",
    "\n",
    "unit_vector = vector/np.linalg.norm(vector) # only direction\n",
    "\n",
    "print(\"||v_hat||\",unit_vector)"
   ]
  },
  {
   "cell_type": "code",
   "execution_count": 22,
   "id": "14359c17-0b04-4597-bf59-f20d73694906",
   "metadata": {},
   "outputs": [],
   "source": [
    "import pandas as pd\n",
    "df = pd.DataFrame({\n",
    "    \"a\": [2, 3],\n",
    "    \"b\": [-1, 4],\n",
    "    \"c\": [2, 0]\n",
    "})\n"
   ]
  },
  {
   "cell_type": "code",
   "execution_count": 23,
   "id": "38f2d68f-5b22-4f74-aa2b-e75e4cac6370",
   "metadata": {},
   "outputs": [
    {
     "data": {
      "text/html": [
       "<div>\n",
       "<style scoped>\n",
       "    .dataframe tbody tr th:only-of-type {\n",
       "        vertical-align: middle;\n",
       "    }\n",
       "\n",
       "    .dataframe tbody tr th {\n",
       "        vertical-align: top;\n",
       "    }\n",
       "\n",
       "    .dataframe thead th {\n",
       "        text-align: right;\n",
       "    }\n",
       "</style>\n",
       "<table border=\"1\" class=\"dataframe\">\n",
       "  <thead>\n",
       "    <tr style=\"text-align: right;\">\n",
       "      <th></th>\n",
       "      <th>a</th>\n",
       "      <th>b</th>\n",
       "      <th>c</th>\n",
       "    </tr>\n",
       "  </thead>\n",
       "  <tbody>\n",
       "    <tr>\n",
       "      <th>0</th>\n",
       "      <td>2</td>\n",
       "      <td>-1</td>\n",
       "      <td>2</td>\n",
       "    </tr>\n",
       "    <tr>\n",
       "      <th>1</th>\n",
       "      <td>3</td>\n",
       "      <td>4</td>\n",
       "      <td>0</td>\n",
       "    </tr>\n",
       "  </tbody>\n",
       "</table>\n",
       "</div>"
      ],
      "text/plain": [
       "   a  b  c\n",
       "0  2 -1  2\n",
       "1  3  4  0"
      ]
     },
     "execution_count": 23,
     "metadata": {},
     "output_type": "execute_result"
    }
   ],
   "source": [
    "df"
   ]
  },
  {
   "cell_type": "code",
   "execution_count": 24,
   "id": "8c814f7c-f0ff-4933-bbda-cdf739cc35ad",
   "metadata": {},
   "outputs": [
    {
     "data": {
      "text/plain": [
       "(2, 3)"
      ]
     },
     "execution_count": 24,
     "metadata": {},
     "output_type": "execute_result"
    }
   ],
   "source": [
    "df.shape"
   ]
  },
  {
   "cell_type": "code",
   "execution_count": 27,
   "id": "576f38e0-e518-4347-9212-9dcdd8d1e882",
   "metadata": {},
   "outputs": [
    {
     "data": {
      "text/html": [
       "<div>\n",
       "<style scoped>\n",
       "    .dataframe tbody tr th:only-of-type {\n",
       "        vertical-align: middle;\n",
       "    }\n",
       "\n",
       "    .dataframe tbody tr th {\n",
       "        vertical-align: top;\n",
       "    }\n",
       "\n",
       "    .dataframe thead th {\n",
       "        text-align: right;\n",
       "    }\n",
       "</style>\n",
       "<table border=\"1\" class=\"dataframe\">\n",
       "  <thead>\n",
       "    <tr style=\"text-align: right;\">\n",
       "      <th></th>\n",
       "      <th>a</th>\n",
       "      <th>b</th>\n",
       "      <th>c</th>\n",
       "    </tr>\n",
       "  </thead>\n",
       "  <tbody>\n",
       "    <tr>\n",
       "      <th>0</th>\n",
       "      <td>0.666667</td>\n",
       "      <td>-0.333333</td>\n",
       "      <td>0.666667</td>\n",
       "    </tr>\n",
       "    <tr>\n",
       "      <th>1</th>\n",
       "      <td>0.600000</td>\n",
       "      <td>0.800000</td>\n",
       "      <td>0.000000</td>\n",
       "    </tr>\n",
       "  </tbody>\n",
       "</table>\n",
       "</div>"
      ],
      "text/plain": [
       "          a         b         c\n",
       "0  0.666667 -0.333333  0.666667\n",
       "1  0.600000  0.800000  0.000000"
      ]
     },
     "execution_count": 27,
     "metadata": {},
     "output_type": "execute_result"
    }
   ],
   "source": [
    "df = df.apply(lambda row: row/np.linalg.norm(row),axis=1)\n",
    "df"
   ]
  },
  {
   "cell_type": "code",
   "execution_count": null,
   "id": "d829e753-c1b3-4ca3-b9d8-c4aafbe09907",
   "metadata": {},
   "outputs": [],
   "source": []
  }
 ],
 "metadata": {
  "kernelspec": {
   "display_name": "Python 3 (ipykernel)",
   "language": "python",
   "name": "python3"
  },
  "language_info": {
   "codemirror_mode": {
    "name": "ipython",
    "version": 3
   },
   "file_extension": ".py",
   "mimetype": "text/x-python",
   "name": "python",
   "nbconvert_exporter": "python",
   "pygments_lexer": "ipython3",
   "version": "3.12.4"
  }
 },
 "nbformat": 4,
 "nbformat_minor": 5
}
