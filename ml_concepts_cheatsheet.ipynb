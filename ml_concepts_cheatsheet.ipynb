{
 "cells": [
  {
   "cell_type": "markdown",
   "id": "324e2a5d",
   "metadata": {},
   "source": [
    "# ML Core Concepts Cheatsheet\n",
    "\n",
    "## Table of Contents\n",
    "1. [Scalar](#scalar)\n",
    "2. [Vector](#vector)\n",
    "3. [Magnitude (L2 norm)](#magnitude-l2-norm)\n",
    "4. [Unit vector](#unit-vector)\n",
    "5. [Norms (Lp)](#norms-lp)\n",
    "6. [Dot product](#dot-product)\n",
    "7. [Projection](#projection)\n",
    "8. [FAQ / Doubts & Answers](#faq-doubts--answers)\n"
   ]
  },
  {
   "cell_type": "code",
   "execution_count": null,
   "id": "ab31c82d",
   "metadata": {},
   "outputs": [],
   "source": [
    "import numpy as np\n"
   ]
  },
  {
   "cell_type": "markdown",
   "id": "5dc8e372",
   "metadata": {},
   "source": [
    "## 1. Scalar\n",
    "\n",
    "**Definition:** Single number (magnitude only).\n",
    "\n",
    "**Use cases:** Learning rate (η), regularization weight (λ), standalone feature.\n"
   ]
  },
  {
   "cell_type": "code",
   "execution_count": null,
   "id": "1fb1f6d4",
   "metadata": {},
   "outputs": [],
   "source": [
    "eta = 0.01       # learning rate scalar\n",
    "lmbd = 0.001     # regularization weight\n",
    "age_years = 29   # scalar feature\n",
    "print(eta, lmbd, age_years)"
   ]
  },
  {
   "cell_type": "markdown",
   "id": "7c9d9eb3",
   "metadata": {},
   "source": [
    "## 2. Vector\n",
    "\n",
    "**Definition:** Ordered list of scalars → magnitude + direction.\n",
    "\n",
    "**Data‑science role:** Feature vector, embeddings, gradients, etc.\n"
   ]
  },
  {
   "cell_type": "code",
   "execution_count": null,
   "id": "cd96758e",
   "metadata": {},
   "outputs": [],
   "source": [
    "x = np.array([170, 65, 29])\n",
    "mag = np.linalg.norm(x)\n",
    "print('Vector:', x)\n",
    "print('Magnitude:', mag)"
   ]
  },
  {
   "cell_type": "markdown",
   "id": "ea32c48a",
   "metadata": {},
   "source": [
    "## 3. Magnitude (L2 norm)\n",
    "\n",
    "**Definition:** Length of vector: ||v|| = sqrt(sum(v_i^2)).\n",
    "\n",
    "**Use cases:** Feature scaling, L2 regularization, distance metrics.\n"
   ]
  },
  {
   "cell_type": "code",
   "execution_count": null,
   "id": "15c0ace4",
   "metadata": {},
   "outputs": [],
   "source": [
    "v = np.array([3, 4])\n",
    "mag = np.linalg.norm(v)\n",
    "unit = v / mag\n",
    "print('||v|| =', mag, ' unit =', unit)"
   ]
  },
  {
   "cell_type": "markdown",
   "id": "9151e2ef",
   "metadata": {},
   "source": [
    "## 4. Unit vector\n",
    "\n",
    "**Definition:** Direction-only vector: v_hat = v / ||v||.\n"
   ]
  },
  {
   "cell_type": "code",
   "execution_count": null,
   "id": "681de252",
   "metadata": {},
   "outputs": [],
   "source": [
    "unit_v = v / np.linalg.norm(v)\n",
    "print('Unit vector:', unit_v)"
   ]
  },
  {
   "cell_type": "markdown",
   "id": "0f2d9732",
   "metadata": {},
   "source": [
    "## 5. Norms (Lp)\n",
    "\n",
    "**Definition:** General vector size: ||v||_p = (sum |v_i|^p)^(1/p).\n"
   ]
  },
  {
   "cell_type": "code",
   "execution_count": null,
   "id": "93d5b03e",
   "metadata": {},
   "outputs": [],
   "source": [
    "print('L1 norm:', np.linalg.norm(v, ord=1))\n",
    "print('L2 norm:', np.linalg.norm(v, ord=2))\n",
    "print('Max norm:', np.linalg.norm(v, ord=np.inf))"
   ]
  },
  {
   "cell_type": "markdown",
   "id": "08548cb0",
   "metadata": {},
   "source": [
    "## 6. Dot product\n",
    "\n",
    "**Definition:** a·b = sum a_i b_i = ||a|| ||b|| cos θ.\n"
   ]
  },
  {
   "cell_type": "code",
   "execution_count": null,
   "id": "fb06233d",
   "metadata": {},
   "outputs": [],
   "source": [
    "a = np.array([1, 2, 3])\n",
    "b = np.array([4, 5, 6])\n",
    "dot = np.dot(a, b)\n",
    "print('Dot product:', dot)"
   ]
  },
  {
   "cell_type": "markdown",
   "id": "9e58d3d7",
   "metadata": {},
   "source": [
    "## 7. Projection\n",
    "\n",
    "**Definition:** Projection of u onto v: (u·v_hat) v_hat.\n"
   ]
  },
  {
   "cell_type": "code",
   "execution_count": null,
   "id": "86ea8dac",
   "metadata": {},
   "outputs": [],
   "source": [
    "def project(u, v):\n",
    "    v_hat = v / np.linalg.norm(v)\n",
    "    return np.dot(u, v_hat) * v_hat\n",
    "\n",
    "print('Projection:', project(np.array([2, 2]), np.array([3, 0])))"
   ]
  },
  {
   "cell_type": "markdown",
   "id": "5263ac75",
   "metadata": {},
   "source": [
    "## 8. FAQ / Doubts & Answers\n",
    "\n",
    "**Q:** Is each row a vector?\n",
    "\n",
    "**A:** After encoding all features numerically, each row can be treated as a feature vector.\n",
    "\n",
    "**Q:** What is a numeric vector?\n",
    "\n",
    "**A:** A vector whose components are all numbers (int or float), ready for operations.\n"
   ]
  }
 ],
 "metadata": {},
 "nbformat": 4,
 "nbformat_minor": 5
}
